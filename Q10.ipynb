{
  "nbformat": 4,
  "nbformat_minor": 0,
  "metadata": {
    "colab": {
      "provenance": [],
      "authorship_tag": "ABX9TyOAQ3WzHyP1dE5KYtvI70aT",
      "include_colab_link": true
    },
    "kernelspec": {
      "name": "python3",
      "display_name": "Python 3"
    },
    "language_info": {
      "name": "python"
    }
  },
  "cells": [
    {
      "cell_type": "markdown",
      "metadata": {
        "id": "view-in-github",
        "colab_type": "text"
      },
      "source": [
        "<a href=\"https://colab.research.google.com/github/oikn2018/CS6910_assignment_1/blob/main/Q10.ipynb\" target=\"_parent\"><img src=\"https://colab.research.google.com/assets/colab-badge.svg\" alt=\"Open In Colab\"/></a>"
      ]
    },
    {
      "cell_type": "code",
      "execution_count": null,
      "metadata": {
        "id": "99-18EThTZzH"
      },
      "outputs": [],
      "source": [
        "#importing required packages\n",
        "import numpy as np\n",
        "import pandas as pd\n",
        "from sklearn.model_selection import train_test_split\n",
        "from sklearn.metrics import accuracy_score,confusion_matrix,classification_report\n",
        "import matplotlib.pyplot as plt\n",
        "import seaborn as sns\n",
        "from keras.datasets import fashion_mnist\n",
        "import wandb\n",
        "import warnings\n",
        "warnings.filterwarnings(\"ignore\", category=np.VisibleDeprecationWarning) \n",
        "\n",
        "np.random.seed(42)"
      ]
    },
    {
      "cell_type": "code",
      "source": [
        "# Load the fashion_mnist dataset\n",
        "(x_train, y_train), (x_test, y_test) = fashion_mnist.load_data()\n",
        "\n",
        "# Split the training data into training and validation sets\n",
        "x_train, x_val, y_train, y_val = train_test_split(x_train, y_train, test_size=0.1, shuffle=True)\n",
        "\n",
        "print(f\"Training data shape: {x_train.shape}, Training label shape: {y_train.shape}\")\n",
        "print(f\"Validation data shape: {x_val.shape}, Validation label shape: {y_val.shape}\")\n",
        "\n",
        "# Reshape the input data for training, validation, and testing sets\n",
        "X_train = np.reshape(x_train, (x_train.shape[0], -1)).T\n",
        "X_val = np.reshape(x_val, (x_val.shape[0], -1)).T\n",
        "X_test = np.reshape(x_test, (x_test.shape[0], -1)).T\n",
        "\n",
        "# Normalize the input data to have values between 0 and 1\n",
        "X_train = X_train / 255.\n",
        "X_val = X_val / 255.\n",
        "X_test = X_test / 255.\n",
        "\n",
        "# Convert the target labels into one-hot encoded vectors\n",
        "Y_train = np.eye(np.max(y_train) + 1)[y_train].T\n",
        "Y_val = np.eye(np.max(y_val) + 1)[y_val].T\n",
        "Y_test = np.eye(np.max(y_test) + 1)[y_test].T\n",
        "\n",
        "print(f\"Training data shape: {X_train.shape}, Training label shape: {Y_train.shape}\")\n",
        "print(f\"Validation data shape: {X_val.shape}, Validation label shape: {Y_val.shape}\")\n",
        "print(f\"Testing data shape: {X_test.shape}, Testing label shape: {Y_test.shape}\")"
      ],
      "metadata": {
        "id": "oluukck8TsE0"
      },
      "execution_count": null,
      "outputs": []
    }
  ]
}